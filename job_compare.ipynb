{
 "cells": [
  {
   "cell_type": "markdown",
   "metadata": {},
   "source": [
    "# Compare SF and LA jobs"
   ]
  },
  {
   "cell_type": "markdown",
   "metadata": {},
   "source": [
    "Most of the following codes are adopted from script https://www.kaggle.com/mevanoff24/d/kaggle/sf-salaries/data-exploration-predicting-salaries/notebook"
   ]
  },
  {
   "cell_type": "code",
   "execution_count": null,
   "metadata": {
    "collapsed": true
   },
   "outputs": [],
   "source": [
    "import os\n",
    "import sqlite3\n",
    "import pandas as pd\n",
    "import numpy as np\n",
    "import matplotlib.pyplot as plt\n",
    "plt.style.use('ggplot')\n",
    "import seaborn as sns\n",
    "%matplotlib inline"
   ]
  },
  {
   "cell_type": "markdown",
   "metadata": {},
   "source": [
    "The dataset in Kaggle only contains salaries in San Francisco. It would be interesting to see if there are any differences between major cities in California, such as San Francisco and Los Angeles. The orginal data source (http://transparentcalifornia.com/agencies/salaries/) contains salaries in all cities and counties in California. The data of Los Angeles in 2011, 2012, 2013, 2014 were downloaded and processed using the following code, which has been used to generate the SF data by Kaggle. "
   ]
  },
  {
   "cell_type": "code",
   "execution_count": null,
   "metadata": {
    "collapsed": true
   },
   "outputs": [],
   "source": [
    "data = pd.DataFrame()\n",
    "\n",
    "col_names = [\"EmployeeName\",\n",
    "             \"JobTitle\",\n",
    "             \"BasePay\",\n",
    "             \"OvertimePay\",\n",
    "             \"OtherPay\",\n",
    "             \"Benefits\",\n",
    "             \"TotalPay\",\n",
    "             \"TotalPayBenefits\",\n",
    "             \"Year\",\n",
    "             \"Notes\",\n",
    "             \"Agency\"]\n",
    "\n",
    "for year in range(2011, 2015):\n",
    "    if year==2014:\n",
    "        col_names = col_names + [\"Status\"]\n",
    "    year_data = pd.read_csv(\"los-angeles-%d.csv\" % year,\n",
    "                            header=None,\n",
    "                            skiprows=1,\n",
    "                            names=col_names)\n",
    "    if year==2011:\n",
    "        year_data[\"Benefits\"] = np.nan # originally \"Not Provided\"\n",
    "    if year<2014:\n",
    "        year_data.insert(year_data.shape[1], \"Status\", np.nan)\n",
    "    data = pd.concat([data, year_data])\n",
    "\n",
    "data.insert(0, \"Id\", list(range(1, len(data)+1)))\n",
    "data.to_csv(\"LA_Salaries.csv\", index=False)"
   ]
  },
  {
   "cell_type": "markdown",
   "metadata": {},
   "source": [
    "Then manually combine the SF and LA data into \"SF_LA_Salaries.csv\" and load it into a data frame. "
   ]
  },
  {
   "cell_type": "code",
   "execution_count": 3,
   "metadata": {
    "collapsed": false
   },
   "outputs": [
    {
     "name": "stderr",
     "output_type": "stream",
     "text": [
      "/Library/Frameworks/Python.framework/Versions/3.4/lib/python3.4/site-packages/IPython/core/interactiveshell.py:2902: DtypeWarning: Columns (2,3,4,5,11) have mixed types. Specify dtype option on import or set low_memory=False.\n",
      "  interactivity=interactivity, compiler=compiler, result=result)\n"
     ]
    },
    {
     "data": {
      "text/html": [
       "<div>\n",
       "<table border=\"1\" class=\"dataframe\">\n",
       "  <thead>\n",
       "    <tr style=\"text-align: right;\">\n",
       "      <th></th>\n",
       "      <th>EmployeeName</th>\n",
       "      <th>JobTitle</th>\n",
       "      <th>BasePay</th>\n",
       "      <th>OvertimePay</th>\n",
       "      <th>OtherPay</th>\n",
       "      <th>Benefits</th>\n",
       "      <th>TotalPay</th>\n",
       "      <th>TotalPayBenefits</th>\n",
       "      <th>Year</th>\n",
       "      <th>Agency</th>\n",
       "      <th>Status</th>\n",
       "      <th>Event</th>\n",
       "    </tr>\n",
       "  </thead>\n",
       "  <tbody>\n",
       "    <tr>\n",
       "      <th>0</th>\n",
       "      <td>NATHANIEL FORD</td>\n",
       "      <td>GENERAL MANAGER-METROPOLITAN TRANSIT AUTHORITY</td>\n",
       "      <td>167411</td>\n",
       "      <td>0</td>\n",
       "      <td>400184</td>\n",
       "      <td>NaN</td>\n",
       "      <td>567595.43</td>\n",
       "      <td>567595.43</td>\n",
       "      <td>2011</td>\n",
       "      <td>San Francisco</td>\n",
       "      <td>NaN</td>\n",
       "      <td>1</td>\n",
       "    </tr>\n",
       "    <tr>\n",
       "      <th>1</th>\n",
       "      <td>GARY JIMENEZ</td>\n",
       "      <td>CAPTAIN III (POLICE DEPARTMENT)</td>\n",
       "      <td>155966</td>\n",
       "      <td>245132</td>\n",
       "      <td>137811</td>\n",
       "      <td>NaN</td>\n",
       "      <td>538909.28</td>\n",
       "      <td>538909.28</td>\n",
       "      <td>2011</td>\n",
       "      <td>San Francisco</td>\n",
       "      <td>NaN</td>\n",
       "      <td>1</td>\n",
       "    </tr>\n",
       "  </tbody>\n",
       "</table>\n",
       "</div>"
      ],
      "text/plain": [
       "     EmployeeName                                        JobTitle BasePay  \\\n",
       "0  NATHANIEL FORD  GENERAL MANAGER-METROPOLITAN TRANSIT AUTHORITY  167411   \n",
       "1    GARY JIMENEZ                 CAPTAIN III (POLICE DEPARTMENT)  155966   \n",
       "\n",
       "  OvertimePay OtherPay Benefits   TotalPay  TotalPayBenefits  Year  \\\n",
       "0           0   400184      NaN  567595.43         567595.43  2011   \n",
       "1      245132   137811      NaN  538909.28         538909.28  2011   \n",
       "\n",
       "          Agency Status  Event  \n",
       "0  San Francisco    NaN      1  \n",
       "1  San Francisco    NaN      1  "
      ]
     },
     "execution_count": 3,
     "metadata": {},
     "output_type": "execute_result"
    }
   ],
   "source": [
    "dat = pd.read_csv('SF_LA_Salaries.csv')\n",
    "dat.drop(['Notes'], axis = 1, inplace = True)\n",
    "dat['Event'] = 1\n",
    "dat.head(2)"
   ]
  },
  {
   "cell_type": "markdown",
   "metadata": {},
   "source": [
    "Helper function to split job titles into categories. "
   ]
  },
  {
   "cell_type": "code",
   "execution_count": 4,
   "metadata": {
    "collapsed": true
   },
   "outputs": [],
   "source": [
    "def find_job_title(row):\n",
    "    \n",
    "    police_title = ['police', 'sherif', 'probation', 'sergeant', 'officer', 'lieutenant']\n",
    "    fire_title = ['fire']\n",
    "    transit_title = ['mta', 'transit']\n",
    "    medical_title = ['anesth', 'medical', 'nurs', 'health', 'physician', 'orthopedic', 'pharm', 'care']\n",
    "    court_title = ['court', 'legal']\n",
    "    automotive_title = ['automotive', 'mechanic', 'truck']\n",
    "    engineer_title = ['engineer', 'engr', 'eng', 'program']\n",
    "    general_laborer_title = ['general laborer', 'painter', 'inspector', 'carpenter', \n",
    "                             'electrician', 'plumber', 'maintenance']\n",
    "    aide_title = ['aide', 'assistant', 'secretary', 'attendant']\n",
    "    \n",
    "    for police in police_title:\n",
    "        if police in row.lower():\n",
    "            return 'police'    \n",
    "    for fire in fire_title:\n",
    "        if fire in row.lower():\n",
    "            return 'fire'\n",
    "    for aide in aide_title:\n",
    "        if aide in row.lower():\n",
    "            return 'assistant'\n",
    "    for transit in transit_title:\n",
    "        if transit in row.lower():\n",
    "            return 'transit'\n",
    "    for medical in medical_title:\n",
    "        if medical in row.lower():\n",
    "            return 'medical'\n",
    "    if 'airport' in row.lower():\n",
    "        return 'airport'\n",
    "    if 'worker' in row.lower():\n",
    "        return 'social worker'\n",
    "    if 'architect' in row.lower():\n",
    "        return 'architect'\n",
    "    for court in court_title:\n",
    "        if court in row.lower():\n",
    "            return 'court'\n",
    "    if 'major' in row.lower():\n",
    "        return 'mayor'\n",
    "    if 'librar' in row.lower():\n",
    "        return 'library'\n",
    "    if 'guard' in row.lower():\n",
    "        return 'guard'\n",
    "    if 'public' in row.lower():\n",
    "        return 'public works'\n",
    "    if 'attorney' in row.lower():\n",
    "        return 'attorney'\n",
    "    if 'custodian' in row.lower():\n",
    "        return 'custodian'\n",
    "    if 'account' in row.lower():\n",
    "        return 'account'\n",
    "    if 'garden' in row.lower():\n",
    "        return 'gardener'\n",
    "    if 'recreation' in row.lower():\n",
    "        return 'recreation leader'\n",
    "    for automotive in automotive_title:\n",
    "        if automotive in row.lower():\n",
    "            return 'automotive'\n",
    "    for engineer in engineer_title:\n",
    "        if engineer in row.lower():\n",
    "            return 'engineer'\n",
    "    for general_laborer in general_laborer_title:\n",
    "        if general_laborer in row.lower():\n",
    "            return 'general laborer'\n",
    "    if 'food serv' in row.lower():\n",
    "        return 'food service'\n",
    "    if 'clerk' in row.lower():\n",
    "        return 'clerk'\n",
    "    if 'porter' in row.lower():\n",
    "        return 'porter' \n",
    "    if 'analy' in row.lower():\n",
    "        return 'analyst'\n",
    "    if 'manager' in row.lower():\n",
    "        return 'manager'\n",
    "    else:\n",
    "        return 'other'\n",
    "    \n",
    "dat['CombJobTitle'] = dat['JobTitle'].map(find_job_title)"
   ]
  },
  {
   "cell_type": "markdown",
   "metadata": {},
   "source": [
    "Compare the count of each category of jobs in SF and LA. "
   ]
  },
  {
   "cell_type": "code",
   "execution_count": 10,
   "metadata": {
    "collapsed": false
   },
   "outputs": [
    {
     "data": {
      "image/png": "[encoded data removed]",
      "text/plain": [
       "<matplotlib.figure.Figure at 0x10dc925c0>"
      ]
     },
     "metadata": {},
     "output_type": "display_data"
    }
   ],
   "source": [
    "plt.figure(figsize=(16,5))\n",
    "sns.countplot('CombJobTitle', data = dat, hue = 'Agency')\n",
    "plt.xticks(rotation = 45)\n",
    "plt.xlabel('Job Category')\n",
    "plt.ylabel('Count')\n",
    "plt.tight_layout()\n",
    "plt.savefig(\"job_compare.png\")"
   ]
  },
  {
   "cell_type": "markdown",
   "metadata": {},
   "source": [
    "It's very interesting that the number of employees in police category in LA is almost 3 times that of SF. Does this mean LA is a more dangerous place to live compared to SF? According to California Department of Justice's record in 2013 (https://en.wikipedia.org/wiki/California_locations_by_crime_rate), the violent crime rates per 1,000 persons of LA and SF are 5.59 and 7.56 respectively, and the property crime rates per 1,000 persons of LA and SF are 15.90 and 13.96. They are pretty close. Then I realized that the population in LA is about 12 times larger than SF and things became reasonable. Many people work in transit field in SF and very few people in LA are in this field although LA has a much larger population. This is because SF has a much better public transportation system and people there almost do not need to drive. The public transportation system can create many positions in SF. Another interesting finding is there are much more people working in medical field in SF than LA given the fact that LA has a much larger population. "
   ]
  }
 ],
 "metadata": {
  "kernelspec": {
   "display_name": "Python 3",
   "language": "python",
   "name": "python3"
  },
  "language_info": {
   "codemirror_mode": {
    "name": "ipython",
    "version": 3
   },
   "file_extension": ".py",
   "mimetype": "text/x-python",
   "name": "python",
   "nbconvert_exporter": "python",
   "pygments_lexer": "ipython3",
   "version": "3.4.3"
  }
 },
 "nbformat": 4,
 "nbformat_minor": 0
}
